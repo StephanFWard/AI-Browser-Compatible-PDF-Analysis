{
  "metadata": {
    "kernelspec": {
      "name": "python",
      "display_name": "Python (Pyodide)",
      "language": "python"
    },
    "language_info": {
      "codemirror_mode": {
        "name": "python",
        "version": 3
      },
      "file_extension": ".py",
      "mimetype": "text/x-python",
      "name": "python",
      "nbconvert_exporter": "python",
      "pygments_lexer": "ipython3",
      "version": "3.8"
    }
  },
  "nbformat_minor": 5,
  "nbformat": 4,
  "cells": [
    {
      "id": "f2b45060-9ca7-4a2e-922b-266cc2e080c0",
      "cell_type": "code",
      "source": "# %% Browser-Compatible PDF Analysis (No Shell Commands)\nimport micropip\nawait micropip.install([\"pypdf\", \"scikit-learn\", \"ipywidgets\", \"numpy\"])\n\nfrom pypdf import PdfReader\nfrom sklearn.feature_extraction.text import TfidfVectorizer\nfrom sklearn.neighbors import NearestNeighbors\nimport ipywidgets as widgets\nfrom IPython.display import display\nimport numpy as np\nfrom io import BytesIO\n\nclass PDFAnalyzer:\n    def __init__(self):\n        self.vectorizer = TfidfVectorizer(stop_words='english')\n        self.nn = NearestNeighbors(n_neighbors=3)\n        self.chunks = []\n        \n    def process_pdf(self, file_content, chunk_size=1000):\n        \"\"\"Process PDF with memory-efficient chunking\"\"\"\n        reader = PdfReader(BytesIO(file_content))\n        text = []\n        current_chunk = []\n        current_length = 0\n        \n        for page in reader.pages:\n            page_text = (page.extract_text() or \"\").split()\n            for word in page_text:\n                if current_length >= chunk_size:\n                    self.chunks.append(' '.join(current_chunk))\n                    current_chunk = []\n                    current_length = 0\n                current_chunk.append(word)\n                current_length += 1\n        if current_chunk:\n            self.chunks.append(' '.join(current_chunk))\n            \n        # Train model\n        tfidf_matrix = self.vectorizer.fit_transform(self.chunks)\n        self.nn.fit(tfidf_matrix)\n        \n    def query(self, question):\n        \"\"\"Find relevant sections\"\"\"\n        question_vec = self.vectorizer.transform([question])\n        distances, indices = self.nn.kneighbors(question_vec)\n        return [(self.chunks[i], 1-dist) for i, dist in zip(indices[0], distances[0])]\n\n# UI Components\nanalyzer = PDFAnalyzer()\nuploader = widgets.FileUpload(accept='.pdf', multiple=True)\nprocess_btn = widgets.Button(description=\"Process PDFs\")\nquestion_input = widgets.Text(placeholder='Ask about documents...')\noutput = widgets.Output()\n\ndef handle_upload(change):\n    with output:\n        output.clear_output()\n        for file in uploader.value:\n            try:\n                analyzer.process_pdf(file['content'])\n                print(f\"Processed {file['name']} - {len(file['content'])//1024}KB\")\n            except Exception as e:\n                print(f\"Error processing {file['name']}: {str(e)}\")\n\ndef handle_question(change):\n    with output:\n        output.clear_output()\n        if not analyzer.chunks:\n            print(\"Process PDFs first!\")\n            return\n            \n        results = analyzer.query(question_input.value)\n        print(f\"Top {len(results)} relevant sections:\")\n        for i, (text, score) in enumerate(results):\n            print(f\"\\n📚 Section {i+1} (Relevance: {score:.2%})\")\n            print(text[:500] + (\"...\" if len(text) > 500 else \"\"))\n            print(\"━\" * 50)\n\n# Display UI\nuploader.observe(handle_upload, names='value')\nquestion_input.observe(handle_question, names='value')\ndisplay(widgets.VBox([\n    uploader,\n    process_btn,\n    question_input,\n    output\n]))",
      "metadata": {
        "trusted": true
      },
      "outputs": [
        {
          "output_type": "display_data",
          "data": {
            "text/plain": "VBox(children=(FileUpload(value=(), accept='.pdf', description='Upload', multiple=True), Button(description='P…",
            "application/vnd.jupyter.widget-view+json": {
              "version_major": 2,
              "version_minor": 0,
              "model_id": "8b90c7321b9f42c6ac88f93565042c18"
            }
          },
          "metadata": {}
        }
      ],
      "execution_count": 89
    }
  ]
}